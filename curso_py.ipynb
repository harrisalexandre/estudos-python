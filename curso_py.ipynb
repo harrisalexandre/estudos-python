{
  "nbformat": 4,
  "nbformat_minor": 0,
  "metadata": {
    "colab": {
      "name": "curso-py",
      "provenance": [],
      "collapsed_sections": [
        "qa6XAJPPIVe4",
        "-Q8eObJcF-xM"
      ],
      "authorship_tag": "ABX9TyP3T7QNDQSzSLID99uR6Idm",
      "include_colab_link": true
    },
    "kernelspec": {
      "name": "python3",
      "display_name": "Python 3"
    },
    "language_info": {
      "name": "python"
    },
    "accelerator": "GPU"
  },
  "cells": [
    {
      "cell_type": "markdown",
      "metadata": {
        "id": "view-in-github",
        "colab_type": "text"
      },
      "source": [
        "<a href=\"https://colab.research.google.com/github/harrisalexandre/estudos-python/blob/main/curso_py.ipynb\" target=\"_parent\"><img src=\"https://colab.research.google.com/assets/colab-badge.svg\" alt=\"Open In Colab\"/></a>"
      ]
    },
    {
      "cell_type": "markdown",
      "source": [
        "# / Atividades  "
      ],
      "metadata": {
        "id": "L_PCQJ0BFJHK"
      }
    },
    {
      "cell_type": "markdown",
      "source": [
        "Ler dois números inteiros, executar e mostrar o resultado das seguintes operações: adição, subtração, multiplicação e divisão"
      ],
      "metadata": {
        "id": "l0I_EfnPFDd-"
      }
    },
    {
      "cell_type": "code",
      "execution_count": null,
      "metadata": {
        "id": "YMVfeOtA_HkK",
        "colab": {
          "base_uri": "https://localhost:8080/"
        },
        "outputId": "d2548743-f3d7-4679-a93b-5942e11b4858"
      },
      "outputs": [
        {
          "output_type": "stream",
          "name": "stdout",
          "text": [
            "Digite o primeiro número: 1\n",
            "Digite o segundo número: 2\n",
            "1 2\n",
            "Adição:  3\n",
            "Subtração:  -1\n",
            "Multiplicação:  2\n",
            "Divisão:  0.5\n"
          ]
        }
      ],
      "source": [
        "3numero1 = int(input('Digite o primeiro número: '))\n",
        "numero2 = int(input('Digite o segundo número: '))\n",
        "\n",
        "print(numero1, numero2)\n",
        "\n",
        "adicao = numero1 + numero2\n",
        "subtracao = numero1 - numero2\n",
        "multiplicacao = numero1 * numero2\n",
        "divisao = numero1 / numero2\n",
        "\n",
        "print('Adição: ', adicao)\n",
        "print('Subtração: ', subtracao)\n",
        "print('Multiplicação: ', multiplicacao)\n",
        "print('Divisão: ', round(divisao, 2))"
      ]
    },
    {
      "cell_type": "markdown",
      "source": [
        "Efetuar o cálculo da quantidade de litros de combustível gasto em uma viagem, utilizando um automóvel que faz 12 Km por litro. Para obter o cálculo, o usuário deve fornecer o tempo gasto na viagem e a velocidade média durante ela. Desta forma, será possível obter a distância percorrida com a fórmula DISTANCIA = TEMPO * VELOCIDADE. Tendo o valor da distância, basta calcular a quantidade de litros de combustível utilizada na viagem, com a fórmula: LITROS_USADOS = DISTANCIA / 12. O programa deve apresentar os valores da velocidade média, tempo gasto na viagem, a distância percorrida e a quantidade de litros utilizada na viagem"
      ],
      "metadata": {
        "id": "oqvN46WmFGqY"
      }
    },
    {
      "cell_type": "code",
      "source": [
        "tempo = float(input('Digite o tempo gasto na viagem: '))\n",
        "velocidade = float(input('Digite a velocidade média: '))\n",
        "\n",
        "print(tempo, velocidade)\n",
        "\n",
        "distancia = tempo * velocidade\n",
        "litros_usados = distancia / 12\n",
        "\n",
        "print('Velocidade média: ', velocidade)\n",
        "print('Tempo gasto na viagem: ', tempo)\n",
        "print('Distância percorrida:', distancia)\n",
        "print('Quantidade de litros:', round(litros_usados,1))"
      ],
      "metadata": {
        "colab": {
          "base_uri": "https://localhost:8080/"
        },
        "id": "6eFr9iP-EP_f",
        "outputId": "cd10a8d4-9197-4d0f-cb2f-ce9fb34f236f"
      },
      "execution_count": null,
      "outputs": [
        {
          "output_type": "stream",
          "name": "stdout",
          "text": [
            "Digite o tempo gasto na viagem: 2\n",
            "Digite a velocidade média: 60\n",
            "2.0 60.0\n",
            "Velocidade média:  60.0\n",
            "Tempo gasto na viagem:  2.0\n",
            "Distância percorrida: 120.0\n",
            "Quantidade de litros: 10.0\n"
          ]
        }
      ]
    },
    {
      "cell_type": "markdown",
      "source": [
        "Leia a idade do usuário e classifique-o em:\n",
        "\n",
        "Criança – 0 a 12 anos\n",
        "Adolescente – 13 a 17 anos\n",
        "Adulto – acima de 18 anos -Se o usuário digitar um número negativo, mostrar a mensagem que a idade é inválida"
      ],
      "metadata": {
        "id": "v4H4-fCOE8RF"
      }
    },
    {
      "cell_type": "code",
      "source": [
        "idade = int(input('Digite a idade: '))\n",
        "\n",
        "print(idade)\n",
        "\n",
        "if idade >= 0 and idade <= 12:\n",
        "  print('Criança')\n",
        "elif idade > 12 and idade <= 18:\n",
        "  print('Adolescente')\n",
        "elif idade > 18:\n",
        "  print('Adulto')\n",
        "else:\n",
        "  print('Idade inválida')"
      ],
      "metadata": {
        "colab": {
          "base_uri": "https://localhost:8080/"
        },
        "id": "4vsMcTQAEeS6",
        "outputId": "c037d23d-c2b2-4293-bb70-47df83fdbd43"
      },
      "execution_count": null,
      "outputs": [
        {
          "output_type": "stream",
          "name": "stdout",
          "text": [
            "Digite a idade: 25\n",
            "25\n",
            "Adulto\n"
          ]
        }
      ]
    },
    {
      "cell_type": "markdown",
      "source": [
        "Calcular a média de um aluno que cursou a disciplina de Programação I, a partir da leitura das notas M1, M2 e M3; passando por um cálculo da média aritmética. Após a média calculada, devemos anunciar se o aluno foi aprovado, reprovado ou pegou exame\n",
        "\n",
        "Se a média estiver entre 0.0 e 4.0, o aluno está reprovado\n",
        "Se a média estiver entre 4.1 e 6.0, o aluno pegou exame\n",
        "Se a média for maior do que 6.0, o aluno está aprovado\n",
        "Se o aluno pegou exame, deve ser lida a nota do exame. Se a nota do exame for maior do que 6.0, está aprovado, senão; está reprovado"
      ],
      "metadata": {
        "id": "6Gy8-eOhE3tD"
      }
    },
    {
      "cell_type": "code",
      "source": [
        "m1 = float(input('Digite a nota M1: '))\n",
        "m2 = float(input('Digite a nota M2: '))\n",
        "m3 = float(input('Digite a nota M3: '))\n",
        "\n",
        "media = (m1 + m2 + m3) / 3\n",
        "print(media)\n",
        "\n",
        "if media >= 0.0 and media <= 4.0:\n",
        "  print('Aluno reprovado')\n",
        "elif media >= 4.1 and media <= 6.0:\n",
        "  exame = float(input('Digite a nota do exame'))\n",
        "  if exame >= 6.0:\n",
        "    print('Aprovado no exame')\n",
        "  else:\n",
        "    print('Reprovado no exame')\n",
        "else:\n",
        "  print('Aluno aprovado')"
      ],
      "metadata": {
        "colab": {
          "base_uri": "https://localhost:8080/"
        },
        "id": "Q7Z2iIhfEk4a",
        "outputId": "bb713497-623c-4fd3-baff-6ca9de9fff3a"
      },
      "execution_count": null,
      "outputs": [
        {
          "output_type": "stream",
          "name": "stdout",
          "text": [
            "Digite a nota M1: 21\n",
            "Digite a nota M2: 23\n",
            "Digite a nota M3: 13\n",
            "19.0\n",
            "Aluno aprovado\n"
          ]
        }
      ]
    },
    {
      "cell_type": "markdown",
      "source": [
        "Para revisar o conteúdo prático visto até agora, você agora pode resolver dois exercícios. Logo em seguida você pode acessar a aula em vídeo com a solução. Implemente cada exercício utilizando tanto o for quanto o while\n",
        "\n",
        "Ler 5 notas e informar a média\n",
        "Imprimir a tabuada do número 3 (3 x 1 = 1 – 3 x 10 = 30)\n",
        "Bom trabalho,"
      ],
      "metadata": {
        "id": "ex3HkAWRKj_2"
      }
    },
    {
      "cell_type": "code",
      "source": [
        "# FOR\n",
        "\n",
        "nota = media = soma = 0\n",
        "\n",
        "for I in range(1, 6):\n",
        "  nota = float(input('Digite a nota '))\n",
        "  soma += nota\n",
        "\n",
        "print(soma)\n",
        "\n",
        "media = soma / 5\n",
        "print('A média é ', media)"
      ],
      "metadata": {
        "colab": {
          "base_uri": "https://localhost:8080/"
        },
        "id": "HxqIb-4HKjd4",
        "outputId": "9c82f9e0-e37d-44be-8557-1470c45592b1"
      },
      "execution_count": null,
      "outputs": [
        {
          "output_type": "stream",
          "name": "stdout",
          "text": [
            "Digite a nota 1\n",
            "Digite a nota 2\n",
            "Digite a nota 3\n",
            "Digite a nota 4\n",
            "Digite a nota 5\n",
            "15.0\n",
            "A média é  3.0\n"
          ]
        }
      ]
    },
    {
      "cell_type": "code",
      "source": [
        "# WHILE\n",
        "\n",
        "nota = soma = 0\n",
        "numero = 1\n",
        "while numero <= 5:\n",
        "  nota = float(input('Digite a nota:'))\n",
        "  soma += nota\n",
        "  numero += 1\n",
        "print('A média é ', soma / 5)6"
      ],
      "metadata": {
        "colab": {
          "base_uri": "https://localhost:8080/"
        },
        "id": "r1GwH5e8Ngjw",
        "outputId": "82e97d32-d70e-4b67-e5b4-76d3b272533c"
      },
      "execution_count": null,
      "outputs": [
        {
          "output_type": "stream",
          "name": "stdout",
          "text": [
            "Digite a nota:1\n",
            "Digite a nota:2\n",
            "Digite a nota:3\n",
            "Digite a nota:4\n",
            "Digite a nota:5\n",
            "A média é  3.0\n"
          ]
        }
      ]
    },
    {
      "cell_type": "markdown",
      "source": [
        "imprimir a tabuada do numero 3 ( 3 x 1 - 3 x 10 = 30 )"
      ],
      "metadata": {
        "id": "KaqCdhdlQc2R"
      }
    },
    {
      "cell_type": "code",
      "source": [
        "# FOR\n",
        "for i in range(1, 11):\n",
        "  print('3 x {} = {}'.format(i, 3 * i))"
      ],
      "metadata": {
        "colab": {
          "base_uri": "https://localhost:8080/"
        },
        "id": "LW07J74_QndS",
        "outputId": "dc58fe41-1463-47e7-c665-db5936c97473"
      },
      "execution_count": 2,
      "outputs": [
        {
          "output_type": "stream",
          "name": "stdout",
          "text": [
            "3 x 1 = 3\n",
            "3 x 2 = 6\n",
            "3 x 3 = 9\n",
            "3 x 4 = 12\n",
            "3 x 5 = 15\n",
            "3 x 6 = 18\n",
            "3 x 7 = 21\n",
            "3 x 8 = 24\n",
            "3 x 9 = 27\n",
            "3 x 10 = 30\n"
          ]
        }
      ]
    },
    {
      "cell_type": "code",
      "source": [
        "# while\n",
        "\n",
        "numero = 1\n",
        "while numero <= 10:\n",
        "  print('3 x {} = {}'.format(numero, 3 * numero))\n",
        "  numero += 1"
      ],
      "metadata": {
        "colab": {
          "base_uri": "https://localhost:8080/"
        },
        "id": "hIKDpUgDRD_w",
        "outputId": "9127f406-9a5b-4ba4-af24-c7832aa661ef"
      },
      "execution_count": 3,
      "outputs": [
        {
          "output_type": "stream",
          "name": "stdout",
          "text": [
            "3 x 1 = 3\n",
            "3 x 2 = 6\n",
            "3 x 3 = 9\n",
            "3 x 4 = 12\n",
            "3 x 5 = 15\n",
            "3 x 6 = 18\n",
            "3 x 7 = 21\n",
            "3 x 8 = 24\n",
            "3 x 9 = 27\n",
            "3 x 10 = 30\n"
          ]
        }
      ]
    },
    {
      "cell_type": "markdown",
      "source": [
        "Para revisar o conteúdo prático visto até agora, você agora pode resolver dois exercícios. Logo em seguida você pode acessar a aula em vídeo com a solução\n",
        "\n",
        "**Lista**: Crie uma estrutura de repetição para fazer a leitura de 5 números inteiros e os armazene dentro de uma lista. Após a leitura, crie outra estrutura de repetição para somar todos os valores digitados\n",
        "\n",
        "**Dicionário**: Crie um dicionário para armazenar o nome e a nota de 3 alunos, fazendo a leitura dos valores por meio de uma estrutura de repetição. Depois, crie uma nova estrutura de repetição para somar todas as notas e retornar a média\n",
        "\n",
        "**Matriz**: Dada a matriz abaixo, construa uma estrutura de repetição para percorrer e somar todos os elementos da matriz"
      ],
      "metadata": {
        "id": "6Kd2rYNHeixs"
      }
    },
    {
      "cell_type": "code",
      "source": [
        "import numpy as np\n",
        "\n",
        "lista = []\n",
        "for i in range(1, 6):\n",
        "  valor = int(input('Digite o valor: '))\n",
        "  lista.append(valor)\n",
        "\n",
        "lista\n"
      ],
      "metadata": {
        "colab": {
          "base_uri": "https://localhost:8080/"
        },
        "id": "m4192pnvel1Q",
        "outputId": "b88568be-9533-414c-bdfb-185804f7866b"
      },
      "execution_count": 47,
      "outputs": [
        {
          "name": "stdout",
          "output_type": "stream",
          "text": [
            "Digite o valor: 1\n",
            "Digite o valor: 2\n",
            "Digite o valor: 3\n",
            "Digite o valor: 4\n",
            "Digite o valor: 5\n"
          ]
        },
        {
          "output_type": "execute_result",
          "data": {
            "text/plain": [
              "[1, 2, 3, 4, 5]"
            ]
          },
          "metadata": {},
          "execution_count": 47
        }
      ]
    },
    {
      "cell_type": "code",
      "source": [
        "import numpy as np\n",
        "len(lista)\n",
        "\n",
        "soma = 0\n",
        "for i in range(len(lista)):\n",
        "  #print(lista[i])\n",
        "  soma += lista[i]\n",
        "print('Soma: ', soma)\n",
        "\n",
        "np.array(lista).sum()"
      ],
      "metadata": {
        "colab": {
          "base_uri": "https://localhost:8080/"
        },
        "id": "AJnuaUTcgmiJ",
        "outputId": "d646d1e9-e373-4bfb-b74f-d199395c8839"
      },
      "execution_count": 49,
      "outputs": [
        {
          "output_type": "stream",
          "name": "stdout",
          "text": [
            "Soma:  15\n"
          ]
        },
        {
          "output_type": "execute_result",
          "data": {
            "text/plain": [
              "15"
            ]
          },
          "metadata": {},
          "execution_count": 49
        }
      ]
    },
    {
      "cell_type": "markdown",
      "source": [
        "Crie um dicionário para armazenar o nome e a nota de 3 alunos, fazendo a leitura dos valores por meio de uma estrutura de repetição. Depois, crie uma nova estrutura de repetição para somar todas as notas e retornar a média"
      ],
      "metadata": {
        "id": "es15rWjrguIb"
      }
    },
    {
      "cell_type": "code",
      "source": [
        "alunos = {}\n",
        "for _ in range(1, 4):\n",
        "  nome = input('Digite o nome: ')\n",
        "  nota = float(input('Digite a nota: '))\n",
        "  alunos[nome] = nota \n",
        "\n",
        "soma = 0\n",
        "for nota in alunos.values():\n",
        "  #print(nota)\n",
        "  soma += nota\n",
        "print('Média: ', soma / 3)"
      ],
      "metadata": {
        "colab": {
          "base_uri": "https://localhost:8080/"
        },
        "id": "s3vrPmvNgx0h",
        "outputId": "d5108869-c70a-400a-b049-bc0089d03f46"
      },
      "execution_count": 51,
      "outputs": [
        {
          "output_type": "stream",
          "name": "stdout",
          "text": [
            "Digite o nome: Joao\n",
            "Digite a nota: 7\n",
            "Digite o nome: Ze\n",
            "Digite a nota: 8\n",
            "Digite o nome: Luis\n",
            "Digite a nota: 9\n",
            "Média:  8.0\n"
          ]
        }
      ]
    },
    {
      "cell_type": "markdown",
      "source": [
        "Dada a matriz abaixo, construa uma estrutura de repetição para percorrer e somar todos os elementos da matriz"
      ],
      "metadata": {
        "id": "AwWNdSumhvqm"
      }
    },
    {
      "cell_type": "code",
      "source": [
        "matriz = np.array([[1, 2, 3],\n",
        "                   [4, 5, 6]])\n",
        "matriz\n",
        "\n",
        "soma = 0\n",
        "for i in range(matriz.shape[0]):\n",
        "  for j in range(matriz.shape[1]):\n",
        "    #print(matriz[i][j])\n",
        "    soma += matriz[i][j]\n",
        "print('Soma: ', soma)"
      ],
      "metadata": {
        "colab": {
          "base_uri": "https://localhost:8080/"
        },
        "id": "iCd8FW9JhymQ",
        "outputId": "4f64a6cb-c79c-427d-cb65-d45fbbf4166a"
      },
      "execution_count": 53,
      "outputs": [
        {
          "output_type": "stream",
          "name": "stdout",
          "text": [
            "Soma:  21\n"
          ]
        }
      ]
    },
    {
      "cell_type": "markdown",
      "source": [
        "# Estruturas de repetição"
      ],
      "metadata": {
        "id": "qa6XAJPPIVe4"
      }
    },
    {
      "cell_type": "markdown",
      "source": [
        ""
      ],
      "metadata": {
        "id": "Tg_TbAibIR3i"
      }
    },
    {
      "cell_type": "code",
      "source": [
        "for numero in range (1, 16):\n",
        "  print(numero)"
      ],
      "metadata": {
        "colab": {
          "base_uri": "https://localhost:8080/"
        },
        "id": "4P8Zgz1bG2PG",
        "outputId": "ee71770f-935d-42da-8252-5022d2c64dfd"
      },
      "execution_count": null,
      "outputs": [
        {
          "output_type": "stream",
          "name": "stdout",
          "text": [
            "1\n",
            "2\n",
            "3\n",
            "4\n",
            "5\n",
            "6\n",
            "7\n",
            "8\n",
            "9\n",
            "10\n",
            "11\n",
            "12\n",
            "13\n",
            "14\n",
            "15\n"
          ]
        }
      ]
    },
    {
      "cell_type": "code",
      "source": [
        "soma = 0\n",
        "for numero in range (1, 6):\n",
        "  soma = soma + numero\n",
        "  print (soma)\n",
        "print('')\n",
        "print (soma)"
      ],
      "metadata": {
        "colab": {
          "base_uri": "https://localhost:8080/"
        },
        "id": "qmV1zckYGCwR",
        "outputId": "72dac67b-8d18-4ce7-9555-8623ff8ac056"
      },
      "execution_count": null,
      "outputs": [
        {
          "output_type": "stream",
          "name": "stdout",
          "text": [
            "1\n",
            "3\n",
            "6\n",
            "10\n",
            "15\n",
            "\n",
            "15\n"
          ]
        }
      ]
    },
    {
      "cell_type": "code",
      "source": [
        "palavra = 'sorvete'\n",
        "for letra in palavra:\n",
        "    print(letra)"
      ],
      "metadata": {
        "colab": {
          "base_uri": "https://localhost:8080/"
        },
        "id": "db92L_CtHonA",
        "outputId": "e0934b3c-528c-46ee-e6c1-61db84d50b84"
      },
      "execution_count": null,
      "outputs": [
        {
          "output_type": "stream",
          "name": "stdout",
          "text": [
            "s\n",
            "o\n",
            "r\n",
            "v\n",
            "e\n",
            "t\n",
            "e\n"
          ]
        }
      ]
    },
    {
      "cell_type": "code",
      "source": [
        "for i in range (0,5):\n",
        "  print(i)\n",
        "  print()\n",
        "  for j in range (0,3):\n",
        "    print (j)\n",
        "  print()"
      ],
      "metadata": {
        "colab": {
          "base_uri": "https://localhost:8080/"
        },
        "id": "AFqwaB8cH4R7",
        "outputId": "dac1224d-59d8-4095-b25e-cc7348d157ee"
      },
      "execution_count": null,
      "outputs": [
        {
          "output_type": "stream",
          "name": "stdout",
          "text": [
            "0\n",
            "\n",
            "0\n",
            "1\n",
            "2\n",
            "\n",
            "1\n",
            "\n",
            "0\n",
            "1\n",
            "2\n",
            "\n",
            "2\n",
            "\n",
            "0\n",
            "1\n",
            "2\n",
            "\n",
            "3\n",
            "\n",
            "0\n",
            "1\n",
            "2\n",
            "\n",
            "4\n",
            "\n",
            "0\n",
            "1\n",
            "2\n",
            "\n"
          ]
        }
      ]
    },
    {
      "cell_type": "code",
      "source": [
        "numero = 5\n",
        "while numero > 0:\n",
        "  print(numero)\n",
        "  numero -= 1"
      ],
      "metadata": {
        "colab": {
          "base_uri": "https://localhost:8080/"
        },
        "id": "dtFyduKMI504",
        "outputId": "988c5f0d-73b8-4f16-c8e3-4297ca81e0d4"
      },
      "execution_count": null,
      "outputs": [
        {
          "output_type": "stream",
          "name": "stdout",
          "text": [
            "5\n",
            "4\n",
            "3\n",
            "2\n",
            "1\n"
          ]
        }
      ]
    },
    {
      "cell_type": "code",
      "source": [
        "numero = 12\n",
        "while numero < 1 or numero > 10:\n",
        "  numero = int(input('Digite um número de 1 a 10: '))"
      ],
      "metadata": {
        "colab": {
          "base_uri": "https://localhost:8080/"
        },
        "id": "bwEr_ORrKDwo",
        "outputId": "e2ada63f-c833-43de-b15e-3631a3be2654"
      },
      "execution_count": null,
      "outputs": [
        {
          "name": "stdout",
          "output_type": "stream",
          "text": [
            "Digite um número de 1 a 10: 0\n",
            "Digite um número de 1 a 10: 11\n",
            "Digite um número de 1 a 10: 5\n"
          ]
        }
      ]
    },
    {
      "cell_type": "markdown",
      "source": [
        "# Coleções / Tuplas / Listas / Dicionarios / Conjuntos / Matrizes"
      ],
      "metadata": {
        "id": "-Q8eObJcF-xM"
      }
    },
    {
      "cell_type": "markdown",
      "source": [
        "**Tuplas**"
      ],
      "metadata": {
        "id": "yT_c4kCsRm-l"
      }
    },
    {
      "cell_type": "code",
      "source": [
        "tupla = ('Homo sapiens', 'Canis familiaris','Felis catus')\n",
        "\n",
        "tupla"
      ],
      "metadata": {
        "colab": {
          "base_uri": "https://localhost:8080/"
        },
        "id": "tmSFSLWuRll5",
        "outputId": "bd01e913-b6a9-46d8-86ae-41cdae01fa5b"
      },
      "execution_count": 4,
      "outputs": [
        {
          "output_type": "execute_result",
          "data": {
            "text/plain": [
              "('Homo sapiens', 'Canis familiaris', 'Felis catus')"
            ]
          },
          "metadata": {},
          "execution_count": 4
        }
      ]
    },
    {
      "cell_type": "markdown",
      "source": [
        "**Lista**"
      ],
      "metadata": {
        "id": "sPN6ZUnUSsbs"
      }
    },
    {
      "cell_type": "code",
      "source": [
        "lista1 = ['Homo sapiens', 'Canis familiaris','Felis catus']\n",
        "lista2 = ['Xenopus laevis', 'Ailuropoda melanoleuca']\n",
        "\n",
        "lista3 = lista1 + lista2\n",
        "\n",
        "print(lista3)"
      ],
      "metadata": {
        "colab": {
          "base_uri": "https://localhost:8080/"
        },
        "id": "kD_ZQQ3CSHH8",
        "outputId": "35e4299b-0d63-488e-d8e6-2b6bad961c7f"
      },
      "execution_count": 8,
      "outputs": [
        {
          "output_type": "stream",
          "name": "stdout",
          "text": [
            "['Homo sapiens', 'Canis familiaris', 'Felis catus', 'Xenopus laevis', 'Ailuropoda melanoleuca']\n"
          ]
        }
      ]
    },
    {
      "cell_type": "code",
      "source": [
        "lista1.append('Gorila gorila')\n",
        "print(lista1)"
      ],
      "metadata": {
        "colab": {
          "base_uri": "https://localhost:8080/"
        },
        "id": "-wKrn1Z_Sdlo",
        "outputId": "0796588b-c804-4aa0-e528-74cacd75072c"
      },
      "execution_count": 10,
      "outputs": [
        {
          "output_type": "stream",
          "name": "stdout",
          "text": [
            "['Homo sapiens', 'Canis familiaris', 'Felis catus', 'Gorila gorila', 'Gorila gorila']\n"
          ]
        }
      ]
    },
    {
      "cell_type": "markdown",
      "source": [
        "**Dicionarios**"
      ],
      "metadata": {
        "id": "BFqtzIjYYKso"
      }
    },
    {
      "cell_type": "code",
      "source": [
        "coleta = {'Aedes aegypt': 32, 'Aedes albopictus': 22, 'Anopheles darlingi': 14}\n",
        "coleta['Aedes aegypt']\n",
        "coleta['Rhodnius montenegrensis'] = 11\n",
        "print(coleta)\n",
        "print()\n",
        "\n",
        "del(coleta)['Aedes albopictus']\n",
        "print(coleta)\n",
        "print('items')\n",
        "coleta.items()\n",
        "print('keys')\n",
        "coleta.keys()\n",
        "print('values')\n",
        "coleta.values()\n",
        "print()\n",
        "\n",
        "coleta2 = {'Anopheles gambiae': 13, 'Anopheles deaneorum': 14}\n",
        "print(coleta2)\n",
        "\n",
        "print('update')\n",
        "coleta.update(coleta2)\n",
        "print(coleta)\n",
        "\n",
        "for especie, num_especimes in coleta.items():\n",
        "  print(f'Espécie: {especie}, número de espécimes coletados: {num_especimes}')"
      ],
      "metadata": {
        "colab": {
          "base_uri": "https://localhost:8080/"
        },
        "id": "WVyAsWjSYNmb",
        "outputId": "ffc89117-338c-456d-a2c0-4449c70df707"
      },
      "execution_count": 26,
      "outputs": [
        {
          "output_type": "stream",
          "name": "stdout",
          "text": [
            "{'Aedes aegypt': 32, 'Aedes albopictus': 22, 'Anopheles darlingi': 14, 'Rhodnius montenegrensis': 11}\n",
            "\n",
            "{'Aedes aegypt': 32, 'Anopheles darlingi': 14, 'Rhodnius montenegrensis': 11}\n",
            "items\n",
            "keys\n",
            "values\n",
            "\n",
            "{'Anopheles gambiae': 13, 'Anopheles deaneorum': 14}\n",
            "update\n",
            "{'Aedes aegypt': 32, 'Anopheles darlingi': 14, 'Rhodnius montenegrensis': 11, 'Anopheles gambiae': 13, 'Anopheles deaneorum': 14}\n",
            "Espécie: Aedes aegypt, número de espécimes coletados: 32\n",
            "Espécie: Anopheles darlingi, número de espécimes coletados: 14\n",
            "Espécie: Rhodnius montenegrensis, número de espécimes coletados: 11\n",
            "Espécie: Anopheles gambiae, número de espécimes coletados: 13\n",
            "Espécie: Anopheles deaneorum, número de espécimes coletados: 14\n"
          ]
        }
      ]
    },
    {
      "cell_type": "markdown",
      "source": [
        "**Conjuntos**"
      ],
      "metadata": {
        "id": "jbpqeePaauqi"
      }
    },
    {
      "cell_type": "code",
      "source": [
        "biomoleculas = ('proteina', 'acidos nucleicos', 'carboidatos', 'lipideo',\n",
        "                'acidos nucleicos', 'carboidatos', 'carboidrato')\n",
        "\n",
        "print(biomoleculas)"
      ],
      "metadata": {
        "colab": {
          "base_uri": "https://localhost:8080/"
        },
        "id": "Nafzf2XcaFbI",
        "outputId": "54faedb7-d4c8-46ec-b7bd-48add0f06a68"
      },
      "execution_count": 30,
      "outputs": [
        {
          "output_type": "stream",
          "name": "stdout",
          "text": [
            "('proteina', 'acidos nucleicos', 'carboidatos', 'lipideo', 'acidos nucleicos', 'carboidatos', 'carboidrato')\n"
          ]
        }
      ]
    },
    {
      "cell_type": "code",
      "source": [
        "c1 = {1,2,3,4,5}\n",
        "c2 = {3,4,5,6,7}\n",
        "\n",
        "c3 = c1.intersection(c2)\n",
        "print(c3)\n",
        "\n",
        "c1.difference(c2)\n",
        "c2.difference(c1)"
      ],
      "metadata": {
        "colab": {
          "base_uri": "https://localhost:8080/"
        },
        "id": "KgsLi4Y4bonv",
        "outputId": "ebdde9b3-2cd8-4811-f5df-895a689e46ee"
      },
      "execution_count": 34,
      "outputs": [
        {
          "output_type": "stream",
          "name": "stdout",
          "text": [
            "{3, 4, 5}\n"
          ]
        },
        {
          "output_type": "execute_result",
          "data": {
            "text/plain": [
              "{6, 7}"
            ]
          },
          "metadata": {},
          "execution_count": 34
        }
      ]
    },
    {
      "cell_type": "markdown",
      "source": [
        "**Matrizes**"
      ],
      "metadata": {
        "id": "xrQpQ8H9cnFP"
      }
    },
    {
      "cell_type": "code",
      "source": [
        "import numpy as np\n",
        "\n",
        "matriz = np.array([[2,3,1],\n",
        "                   [4,5,7]])\n",
        "\n",
        "matriz\n",
        "\n",
        "print('linhas x colunas')\n",
        "matriz.shape\n",
        "\n",
        "# matrizes comecam sempre no zero, o primeiro digito (linha x coluna) = zero\n",
        "matriz[0][0]\n",
        "\n",
        "for i in range(matriz.shape[0]):\n",
        "  print(matriz[i])\n",
        "  for j in range(matriz.shape[1]):\n",
        "    print(matriz[i][j])"
      ],
      "metadata": {
        "colab": {
          "base_uri": "https://localhost:8080/"
        },
        "id": "Os4u4SG8boin",
        "outputId": "6c239798-1c74-473d-a756-d928af677d47"
      },
      "execution_count": 42,
      "outputs": [
        {
          "output_type": "stream",
          "name": "stdout",
          "text": [
            "linhas x colunas\n",
            "[2 3 1]\n",
            "2\n",
            "3\n",
            "1\n",
            "[4 5 7]\n",
            "4\n",
            "5\n",
            "7\n"
          ]
        }
      ]
    }
  ]
}