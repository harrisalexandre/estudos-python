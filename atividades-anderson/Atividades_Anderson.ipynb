{
  "cells": [
    {
      "cell_type": "markdown",
      "metadata": {
        "id": "Garhd67O4WuX"
      },
      "source": [
        "Atividades Anderson:"
      ]
    },
    {
      "cell_type": "code",
      "execution_count": null,
      "metadata": {
        "colab": {
          "base_uri": "https://localhost:8080/"
        },
        "id": "1stlLXh7NO4W",
        "outputId": "aea52bda-e4d3-4f6a-99df-69bf1448896c"
      },
      "outputs": [
        {
          "name": "stdout",
          "output_type": "stream",
          "text": [
            "Digite seu nome: Harris\n",
            "Digite sua idade: 25\n",
            "seu nome é  Harris e sua idade são 25 anos.\n"
          ]
        }
      ],
      "source": [
        "# Atividade 1\n",
        "# 1 Crie um algoritmo que tenha as variáveis Nome e Idade e exiba na primeira linha a seguinte frase: Olá, meu nome é „Valor da variável Nome . ‟E em outra linha a frase : “Eu tenho 'Valor da variável Idade' anos de idade”. \n",
        "\n",
        "nome = input('Digite seu nome: ')\n",
        "idade = input('Digite sua idade: ')\n",
        "\n",
        "print('seu nome é ', nome, 'e sua idade são', idade,'anos.')"
      ]
    },
    {
      "cell_type": "code",
      "execution_count": null,
      "metadata": {
        "colab": {
          "base_uri": "https://localhost:8080/"
        },
        "id": "Zu6_v276NWVs",
        "outputId": "1906fd7e-1eea-42a2-81ac-12d6ea82d267"
      },
      "outputs": [
        {
          "name": "stdout",
          "output_type": "stream",
          "text": [
            "Digite um número:12\n",
            "6.0\n",
            "{6.0}\n",
            "{6.0}\n"
          ]
        }
      ],
      "source": [
        "# Atividade 2\n",
        "# Criar um programa que receba  um número inteiro e diga qual é a metade desse número\n",
        "\n",
        "num = int(input('Digite um número:'))\n",
        "d = 2\n",
        "\n",
        "print (num/d)\n",
        "print( {num/d} )\n",
        "print( {num/2} )\n"
      ]
    },
    {
      "cell_type": "code",
      "execution_count": null,
      "metadata": {
        "colab": {
          "base_uri": "https://localhost:8080/"
        },
        "id": "gQqOYQBjNm-8",
        "outputId": "e6a8f56e-a120-4ecb-a138-6bc333fc86b8"
      },
      "outputs": [
        {
          "name": "stdout",
          "output_type": "stream",
          "text": [
            "Digite a nota 1 :2\n",
            "Digite a nota 2 :3\n",
            "Digite a nota 3 :4\n",
            "Digite a nota 4 :5\n",
            "3.5\n",
            "sua media é : 3.5\n",
            "sua media é : 3.5\n"
          ]
        }
      ],
      "source": [
        "# Atividade 3\n",
        "# Criar um programa que receba 3 notas e diga qual é a média entre essas notas. \n",
        "\n",
        "nota1 = float(input('Digite a nota 1 :'))\n",
        "nota2 = float(input('Digite a nota 2 :'))\n",
        "nota3 = float(input('Digite a nota 3 :'))\n",
        "nota4 = float(input('Digite a nota 4 :'))\n",
        "\n",
        "media = ( nota1 + nota2 + nota3 + nota4 ) / 4\n",
        "\n",
        "print(media)\n",
        "print('sua media é :', media)\n",
        "print(f'sua media é :', media)"
      ]
    },
    {
      "cell_type": "code",
      "execution_count": null,
      "metadata": {
        "colab": {
          "base_uri": "https://localhost:8080/"
        },
        "id": "V5OQGifeN8IF",
        "outputId": "128c82cd-be80-4664-b2e0-e8697f2e4fcb"
      },
      "outputs": [
        {
          "name": "stdout",
          "output_type": "stream",
          "text": [
            "Digite um número: 12\n",
            "O número digitado NAO consta no invervalo.\n"
          ]
        }
      ],
      "source": [
        "#Atividade 4\n",
        "# Escreva um algoritmo para ler um valor e escrever se ele está no intervalo entre 1 e 10 ou não está. \n",
        "\n",
        "num = float(input('Digite um número: '))\n",
        "\n",
        "if num >= 0 and num <= 10:\n",
        "  print('O numero digitado CONSTA no intervalo.')\n",
        "else:\n",
        "  print('O número digitado NAO consta no invervalo.')"
      ]
    },
    {
      "cell_type": "code",
      "execution_count": null,
      "metadata": {
        "colab": {
          "base_uri": "https://localhost:8080/"
        },
        "id": "uCY66itvPWXa",
        "outputId": "68141e6d-a23b-46b9-bbbf-de26a75fc61e"
      },
      "outputs": [
        {
          "name": "stdout",
          "output_type": "stream",
          "text": [
            "Digite sua idade: 96\n",
            "Você não pode tirar carteira.\n"
          ]
        }
      ],
      "source": [
        "# Atividade 5\n",
        "# Escreva um algoritmo que receba a idade de uma pessoa. Se essa idade for menor que 18 OU maior que 95, escrever “Você não pode tirar a carteira”.\n",
        "\n",
        "idade = int(input('Digite sua idade: '))\n",
        "if idade > 17 and idade <= 95:\n",
        "  print(\"Você pode tirar CNH.\")\n",
        "else:\n",
        "  print(\"Você não pode tirar carteira.\")"
      ]
    },
    {
      "cell_type": "code",
      "execution_count": null,
      "metadata": {
        "colab": {
          "base_uri": "https://localhost:8080/"
        },
        "id": "lBjA5xCePZzK",
        "outputId": "a96f48b9-5ad0-424b-dfa0-e6e94329e53c"
      },
      "outputs": [
        {
          "name": "stdout",
          "output_type": "stream",
          "text": [
            "Digite o primeiro numero: 9\n",
            "Digite o segundo numero: 3\n",
            "num1:  9\n"
          ]
        }
      ],
      "source": [
        "# Atividade 6\n",
        "# Ler dois números e imprimir o maior deles. \n",
        "\n",
        "num1 = int(input('Digite o primeiro numero: '))\n",
        "num2 = int(input('Digite o segundo numero: '))\n",
        "\n",
        "if num1 > num2:\n",
        "  print('num1: ', num1)\n",
        "else :\n",
        "  num2 > num1\n",
        "  print('num2: ', num2)"
      ]
    },
    {
      "cell_type": "code",
      "execution_count": null,
      "metadata": {
        "colab": {
          "base_uri": "https://localhost:8080/"
        },
        "id": "Ocdqgh3YPa1V",
        "outputId": "f915e06c-bc18-4151-9da3-372cd2ce8f48"
      },
      "outputs": [
        {
          "name": "stdout",
          "output_type": "stream",
          "text": [
            "Digite um numero: 0\n",
            "O número é zero.\n"
          ]
        }
      ],
      "source": [
        "# Atividade 7\n",
        "# Ler um número e imprimir se ele é positivo, negativo ou zero.\n",
        "\n",
        "num = float(input('Digite um numero: '))\n",
        "\n",
        "if num > 0:\n",
        "  print('O número ', num, 'é positivo.') \n",
        "elif num < 0:\n",
        "  print('O número ', num, 'é negativo.')\n",
        "else: \n",
        "  num = 0\n",
        "  print('O número é zero.')"
      ]
    },
    {
      "cell_type": "code",
      "execution_count": null,
      "metadata": {
        "id": "Br1PVN-cPbbj"
      },
      "outputs": [],
      "source": [
        "# Atividade 8\n",
        "# Ler três números e encontrar e imprimir o maior deles.\n",
        "\n",
        "def maior(x,y,z):\n",
        "    max = x\n",
        "\n",
        "    if y > max:\n",
        "        max = y\n",
        "    if z > max:\n",
        "        max = z\n",
        "\n",
        "    return max\n",
        "\n",
        "def menor(x,y,z):\n",
        "    min = x\n",
        "\n",
        "    if y < min:\n",
        "        min = y\n",
        "    if z < min:\n",
        "        min = z\n",
        "\n",
        "    return min\n",
        "\n",
        "def menu():\n",
        "    x = int(input('Primeiro numero: '))\n",
        "    y = int(input('Segundo numero : '))\n",
        "    z = int(input('Terceiro: numero: '))\n",
        "\n",
        "    print(\"Maior: \", maior(x,y,z))\n",
        "    print(\"Menor: \", menor(x,y,z))\n",
        "    print()\n",
        "    \n",
        "while True:\n",
        "    menu()"
      ]
    },
    {
      "cell_type": "code",
      "execution_count": null,
      "metadata": {
        "colab": {
          "base_uri": "https://localhost:8080/"
        },
        "id": "8cGuDWXHPb_P",
        "outputId": "982f9e4e-f99b-402e-ab76-3bd0675f5e31"
      },
      "outputs": [
        {
          "name": "stdout",
          "output_type": "stream",
          "text": [
            "Digite sua profissao: Atleta\n",
            "Digite o seu salario: 100\n",
            "Seu salário reajustado é:  120.0\n"
          ]
        }
      ],
      "source": [
        "# Atividade 9\n",
        "# Ler a profissão do usuário e o seu salário. Se for técnico (tec), reajustar o salário em 50% . Se for estagiário (est), aumentar o salário em 30% , se não for nenhum dos cargos citados, \n",
        "# calcular o salário com um aumento de 20%. Informar o salário resultante para o usuário.\n",
        "\n",
        "\n",
        "def menu():\n",
        "  profissao = str(input('Digite sua profissao: '))\n",
        "  salario = float(input('Digite o seu salario: '))\n",
        "\n",
        "  if profissao == 'tecnico':\n",
        "    print('Seu salário reajustado é: ', salario + ( salario * 0.5 ))\n",
        "  elif profissao == 'estagiario':\n",
        "    print('Seu salário reajustado é: ', salario + ( salario * 0.3 ))\n",
        "  else:\n",
        "    profissao != 'tecnico' and profissao != 'estagiario'\n",
        "    print('Seu salário reajustado é: ', salario + ( salario * 0.2 ))\n",
        "\n",
        "while True:\n",
        "    menu()"
      ]
    },
    {
      "cell_type": "code",
      "execution_count": null,
      "metadata": {
        "colab": {
          "base_uri": "https://localhost:8080/"
        },
        "id": "radvttDtPceZ",
        "outputId": "afd8e340-dde5-4c9d-93b0-cb881ea02018"
      },
      "outputs": [
        {
          "name": "stdout",
          "output_type": "stream",
          "text": [
            "Qual o valor da sua compra? 200\n",
            "O desconto para sua compra é de 20%, então você ira pagar: R$ 160.0 .\n"
          ]
        }
      ],
      "source": [
        "# Atividade 10\n",
        "# Uma determinada loja está fazendo promoções de vendas. Qualquer compra que um cliente fizer até R$ 100,00 receberá 5% de descontos. Se a compra for maior que R$ 100,00, mas inferior a R$ 200,00, o desconto será de 10%. \n",
        "# Se for superior ou igual a R$ 200,00, o desconto será de 20%. \n",
        "\n",
        "compra = float(input('Qual o valor da sua compra? '))\n",
        "\n",
        "if compra < 100:\n",
        "  print('O desconto para sua compra é de 5%, então você ira pagar: R$', compra-(compra * 0.05), '.')\n",
        "elif compra >= 100 and compra < 200:\n",
        "  print('O desconto para sua compra é de 10%, então você ira pagar: R$', compra-(compra * 0.1), '.')\n",
        "else:\n",
        "  compra >= 200\n",
        "  \n",
        "  print('O desconto para sua compra é de 20%, então você ira pagar: R$', compra-(compra * 0.2), '.')"
      ]
    },
    {
      "cell_type": "code",
      "execution_count": null,
      "metadata": {
        "id": "A1Cf1YOWPdQ4"
      },
      "outputs": [],
      "source": [
        "# Atividade 11\n",
        "# Entrar com a sigla do estado de uma pessoa e imprimir uma das mensagens: \n",
        "\n",
        "uf = str(input('Digite a sigla do seu Estado (UF): '))\n",
        "\n",
        "if uf == 'rj' :\n",
        "  print('Você é Carioca.')\n",
        "elif uf == 'sp' :\n",
        "  print('Você é Paulista.')\n",
        "elif uf == 'mg' :\n",
        "  print('Você é Mineiro.')\n",
        "# else:\n",
        "  if uf != 'rj' and uf != 'sp' and uf != 'mg':\n",
        "  print('Você é de outro estado.')"
      ]
    },
    {
      "cell_type": "code",
      "execution_count": null,
      "metadata": {
        "colab": {
          "base_uri": "https://localhost:8080/"
        },
        "id": "G6S-QpfpPd1L",
        "outputId": "1bc0fc05-5fd4-471e-a512-436b103b69c2"
      },
      "outputs": [
        {
          "name": "stdout",
          "output_type": "stream",
          "text": [
            "Digite o primeiro numero :5\n",
            "O numero é impar\n"
          ]
        }
      ],
      "source": [
        "# Atividade 12\n",
        "# Ler um número e imprimir se ele é par ou ímpar. Dica: a função mod representa o resto da divisão inteira de um número por outro. Ex.: 3 mod 2 = 2, pois 3 dividido por 2 é igual a 1, sobrando 2\n",
        "4 mod 2 =0, pois 4 dividido por 2 é igual a 2, sobrando zero. Ou seja, sempre que o resto da divisão entre dois números for diferente de zero, ele é ímpar. \n",
        "\n",
        "num1 = float(input('Digite o primeiro numero :'))\n",
        "\n",
        "if ( num1 % 2 == 0 ):\n",
        "  print('O numero é par.') \n",
        "else:\n",
        "  print('O numero é impar.') "
      ]
    },
    {
      "cell_type": "code",
      "execution_count": null,
      "metadata": {
        "colab": {
          "base_uri": "https://localhost:8080/"
        },
        "id": "LK0HvMqAPedw",
        "outputId": "f6646a3f-260d-443f-f830-b8564e26cfea"
      },
      "outputs": [
        {
          "name": "stdout",
          "output_type": "stream",
          "text": [
            "Digite a nota da primeira prova5\n",
            "Digite a nota da segunda prova5\n",
            "Digite a nota da terceira prova5\n",
            "Digite a nota da quarta prova5\n",
            "Digite a nota do primeiro prova5\n",
            "Digite a nota do segundo prova5\n",
            "Digite a nota do terceiro prova5\n",
            "Digite a nota do quarto prova5\n",
            "Aluno reprovado com média final 5.0\n"
          ]
        }
      ],
      "source": [
        "# Atividade 13\n",
        "# Leia quatro notas de prova (P1, P2, P3 e P4) e quatro notas de trabalho (T1, T2, T3 e T4) e posteriormente exiba a mensagem “Aprovado” ou “Não Aprovado” dependo dos valores obtidos, \n",
        "# conforme as regras de cálculo definidas a seguir: Média de provas: \n",
        "\n",
        "p1 = float(input('Digite a nota da primeira prova: '))\n",
        "p2 = float(input('Digite a nota da segunda prova: '))\n",
        "p3 = float(input('Digite a nota da terceira prova: '))\n",
        "p4 = float(input('Digite a nota da quarta prova: '))\n",
        "\n",
        "t1 = float(input('Digite a nota do primeiro prova: '))\n",
        "t2 = float(input('Digite a nota do segundo prova: '))\n",
        "t3 = float(input('Digite a nota do terceiro prova: '))\n",
        "t4 = float(input('Digite a nota do quarto prova: '))\n",
        "\n",
        "mp = ( p1 + p2 + p3 + p4 ) / 4\n",
        "mt = ( t1 + t2 + t3 + t4 ) / 4\n",
        "mf = 0.8 * mp + 0.2 * mt\n",
        "\n",
        "if mf >= 6:\n",
        "  print('Aluno aprovado com média final', mf)\n",
        "else:\n",
        "  print('Aluno reprovado com média final: ', mf)"
      ]
    }
  ],
  "metadata": {
    "colab": {
      "collapsed_sections": [],
      "name": "Atividades Anderson",
      "provenance": [],
      "toc_visible": true
    },
    "kernelspec": {
      "display_name": "Python 3",
      "name": "python3"
    },
    "language_info": {
      "name": "python"
    }
  },
  "nbformat": 4,
  "nbformat_minor": 0
}
