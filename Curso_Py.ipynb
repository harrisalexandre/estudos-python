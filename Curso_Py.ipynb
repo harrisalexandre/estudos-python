{
  "nbformat": 4,
  "nbformat_minor": 0,
  "metadata": {
    "colab": {
      "name": "Curso Py",
      "provenance": [],
      "collapsed_sections": [],
      "authorship_tag": "ABX9TyMDO+FAAgHpU05QrDK+VSt9",
      "include_colab_link": true
    },
    "kernelspec": {
      "name": "python3",
      "display_name": "Python 3"
    },
    "language_info": {
      "name": "python"
    },
    "accelerator": "GPU"
  },
  "cells": [
    {
      "cell_type": "markdown",
      "metadata": {
        "id": "view-in-github",
        "colab_type": "text"
      },
      "source": [
        "<a href=\"https://colab.research.google.com/github/harrisalexandre/estudos-python/blob/main/Curso_Py.ipynb\" target=\"_parent\"><img src=\"https://colab.research.google.com/assets/colab-badge.svg\" alt=\"Open In Colab\"/></a>"
      ]
    },
    {
      "cell_type": "markdown",
      "source": [
        "# / Atividades  "
      ],
      "metadata": {
        "id": "L_PCQJ0BFJHK"
      }
    },
    {
      "cell_type": "markdown",
      "source": [
        "Ler dois números inteiros, executar e mostrar o resultado das seguintes operações: adição, subtração, multiplicação e divisão"
      ],
      "metadata": {
        "id": "l0I_EfnPFDd-"
      }
    },
    {
      "cell_type": "code",
      "execution_count": null,
      "metadata": {
        "id": "YMVfeOtA_HkK",
        "colab": {
          "base_uri": "https://localhost:8080/"
        },
        "outputId": "d2548743-f3d7-4679-a93b-5942e11b4858"
      },
      "outputs": [
        {
          "output_type": "stream",
          "name": "stdout",
          "text": [
            "Digite o primeiro número: 1\n",
            "Digite o segundo número: 2\n",
            "1 2\n",
            "Adição:  3\n",
            "Subtração:  -1\n",
            "Multiplicação:  2\n",
            "Divisão:  0.5\n"
          ]
        }
      ],
      "source": [
        "3numero1 = int(input('Digite o primeiro número: '))\n",
        "numero2 = int(input('Digite o segundo número: '))\n",
        "\n",
        "print(numero1, numero2)\n",
        "\n",
        "adicao = numero1 + numero2\n",
        "subtracao = numero1 - numero2\n",
        "multiplicacao = numero1 * numero2\n",
        "divisao = numero1 / numero2\n",
        "\n",
        "print('Adição: ', adicao)\n",
        "print('Subtração: ', subtracao)\n",
        "print('Multiplicação: ', multiplicacao)\n",
        "print('Divisão: ', round(divisao, 2))"
      ]
    },
    {
      "cell_type": "markdown",
      "source": [
        "Efetuar o cálculo da quantidade de litros de combustível gasto em uma viagem, utilizando um automóvel que faz 12 Km por litro. Para obter o cálculo, o usuário deve fornecer o tempo gasto na viagem e a velocidade média durante ela. Desta forma, será possível obter a distância percorrida com a fórmula DISTANCIA = TEMPO * VELOCIDADE. Tendo o valor da distância, basta calcular a quantidade de litros de combustível utilizada na viagem, com a fórmula: LITROS_USADOS = DISTANCIA / 12. O programa deve apresentar os valores da velocidade média, tempo gasto na viagem, a distância percorrida e a quantidade de litros utilizada na viagem"
      ],
      "metadata": {
        "id": "oqvN46WmFGqY"
      }
    },
    {
      "cell_type": "code",
      "source": [
        "tempo = float(input('Digite o tempo gasto na viagem: '))\n",
        "velocidade = float(input('Digite a velocidade média: '))\n",
        "\n",
        "print(tempo, velocidade)\n",
        "\n",
        "distancia = tempo * velocidade\n",
        "litros_usados = distancia / 12\n",
        "\n",
        "print('Velocidade média: ', velocidade)\n",
        "print('Tempo gasto na viagem: ', tempo)\n",
        "print('Distância percorrida:', distancia)\n",
        "print('Quantidade de litros:', round(litros_usados,1))"
      ],
      "metadata": {
        "colab": {
          "base_uri": "https://localhost:8080/"
        },
        "id": "6eFr9iP-EP_f",
        "outputId": "cd10a8d4-9197-4d0f-cb2f-ce9fb34f236f"
      },
      "execution_count": null,
      "outputs": [
        {
          "output_type": "stream",
          "name": "stdout",
          "text": [
            "Digite o tempo gasto na viagem: 2\n",
            "Digite a velocidade média: 60\n",
            "2.0 60.0\n",
            "Velocidade média:  60.0\n",
            "Tempo gasto na viagem:  2.0\n",
            "Distância percorrida: 120.0\n",
            "Quantidade de litros: 10.0\n"
          ]
        }
      ]
    },
    {
      "cell_type": "markdown",
      "source": [
        "Leia a idade do usuário e classifique-o em:\n",
        "\n",
        "Criança – 0 a 12 anos\n",
        "Adolescente – 13 a 17 anos\n",
        "Adulto – acima de 18 anos -Se o usuário digitar um número negativo, mostrar a mensagem que a idade é inválida"
      ],
      "metadata": {
        "id": "v4H4-fCOE8RF"
      }
    },
    {
      "cell_type": "code",
      "source": [
        "idade = int(input('Digite a idade: '))\n",
        "\n",
        "print(idade)\n",
        "\n",
        "if idade >= 0 and idade <= 12:\n",
        "  print('Criança')\n",
        "elif idade > 12 and idade <= 18:\n",
        "  print('Adolescente')\n",
        "elif idade > 18:\n",
        "  print('Adulto')\n",
        "else:\n",
        "  print('Idade inválida')"
      ],
      "metadata": {
        "colab": {
          "base_uri": "https://localhost:8080/"
        },
        "id": "4vsMcTQAEeS6",
        "outputId": "c037d23d-c2b2-4293-bb70-47df83fdbd43"
      },
      "execution_count": null,
      "outputs": [
        {
          "output_type": "stream",
          "name": "stdout",
          "text": [
            "Digite a idade: 25\n",
            "25\n",
            "Adulto\n"
          ]
        }
      ]
    },
    {
      "cell_type": "markdown",
      "source": [
        "Calcular a média de um aluno que cursou a disciplina de Programação I, a partir da leitura das notas M1, M2 e M3; passando por um cálculo da média aritmética. Após a média calculada, devemos anunciar se o aluno foi aprovado, reprovado ou pegou exame\n",
        "\n",
        "Se a média estiver entre 0.0 e 4.0, o aluno está reprovado\n",
        "Se a média estiver entre 4.1 e 6.0, o aluno pegou exame\n",
        "Se a média for maior do que 6.0, o aluno está aprovado\n",
        "Se o aluno pegou exame, deve ser lida a nota do exame. Se a nota do exame for maior do que 6.0, está aprovado, senão; está reprovado"
      ],
      "metadata": {
        "id": "6Gy8-eOhE3tD"
      }
    },
    {
      "cell_type": "code",
      "source": [
        "m1 = float(input('Digite a nota M1: '))\n",
        "m2 = float(input('Digite a nota M2: '))\n",
        "m3 = float(input('Digite a nota M3: '))\n",
        "\n",
        "media = (m1 + m2 + m3) / 3\n",
        "print(media)\n",
        "\n",
        "if media >= 0.0 and media <= 4.0:\n",
        "  print('Aluno reprovado')\n",
        "elif media >= 4.1 and media <= 6.0:\n",
        "  exame = float(input('Digite a nota do exame'))\n",
        "  if exame >= 6.0:\n",
        "    print('Aprovado no exame')\n",
        "  else:\n",
        "    print('Reprovado no exame')\n",
        "else:\n",
        "  print('Aluno aprovado')"
      ],
      "metadata": {
        "colab": {
          "base_uri": "https://localhost:8080/"
        },
        "id": "Q7Z2iIhfEk4a",
        "outputId": "bb713497-623c-4fd3-baff-6ca9de9fff3a"
      },
      "execution_count": null,
      "outputs": [
        {
          "output_type": "stream",
          "name": "stdout",
          "text": [
            "Digite a nota M1: 21\n",
            "Digite a nota M2: 23\n",
            "Digite a nota M3: 13\n",
            "19.0\n",
            "Aluno aprovado\n"
          ]
        }
      ]
    },
    {
      "cell_type": "markdown",
      "source": [
        "Para revisar o conteúdo prático visto até agora, você agora pode resolver dois exercícios. Logo em seguida você pode acessar a aula em vídeo com a solução. Implemente cada exercício utilizando tanto o for quanto o while\n",
        "\n",
        "Ler 5 notas e informar a média\n",
        "Imprimir a tabuada do número 3 (3 x 1 = 1 – 3 x 10 = 30)\n",
        "Bom trabalho,"
      ],
      "metadata": {
        "id": "ex3HkAWRKj_2"
      }
    },
    {
      "cell_type": "code",
      "source": [
        "# FOR\n",
        "\n",
        "nota = media = soma = 0\n",
        "\n",
        "for I in range(1, 6):\n",
        "  nota = float(input('Digite a nota '))\n",
        "  soma += nota\n",
        "\n",
        "print(soma)\n",
        "\n",
        "media = soma / 5\n",
        "print('A média é ', media)"
      ],
      "metadata": {
        "colab": {
          "base_uri": "https://localhost:8080/"
        },
        "id": "HxqIb-4HKjd4",
        "outputId": "9c82f9e0-e37d-44be-8557-1470c45592b1"
      },
      "execution_count": null,
      "outputs": [
        {
          "output_type": "stream",
          "name": "stdout",
          "text": [
            "Digite a nota 1\n",
            "Digite a nota 2\n",
            "Digite a nota 3\n",
            "Digite a nota 4\n",
            "Digite a nota 5\n",
            "15.0\n",
            "A média é  3.0\n"
          ]
        }
      ]
    },
    {
      "cell_type": "code",
      "source": [
        "# WHILE\n",
        "\n",
        "nota = soma = 0\n",
        "numero = 1\n",
        "while numero <= 5:\n",
        "  nota = float(input('Digite a nota:'))\n",
        "  soma += nota\n",
        "  numero += 1\n",
        "print('A média é ', soma / 5)6"
      ],
      "metadata": {
        "colab": {
          "base_uri": "https://localhost:8080/"
        },
        "id": "r1GwH5e8Ngjw",
        "outputId": "82e97d32-d70e-4b67-e5b4-76d3b272533c"
      },
      "execution_count": null,
      "outputs": [
        {
          "output_type": "stream",
          "name": "stdout",
          "text": [
            "Digite a nota:1\n",
            "Digite a nota:2\n",
            "Digite a nota:3\n",
            "Digite a nota:4\n",
            "Digite a nota:5\n",
            "A média é  3.0\n"
          ]
        }
      ]
    },
    {
      "cell_type": "markdown",
      "source": [
        "# Estruturas de repetição"
      ],
      "metadata": {
        "id": "qa6XAJPPIVe4"
      }
    },
    {
      "cell_type": "markdown",
      "source": [
        ""
      ],
      "metadata": {
        "id": "Tg_TbAibIR3i"
      }
    },
    {
      "cell_type": "code",
      "source": [
        "for numero in range (1, 16):\n",
        "  print(numero)"
      ],
      "metadata": {
        "colab": {
          "base_uri": "https://localhost:8080/"
        },
        "id": "4P8Zgz1bG2PG",
        "outputId": "ee71770f-935d-42da-8252-5022d2c64dfd"
      },
      "execution_count": null,
      "outputs": [
        {
          "output_type": "stream",
          "name": "stdout",
          "text": [
            "1\n",
            "2\n",
            "3\n",
            "4\n",
            "5\n",
            "6\n",
            "7\n",
            "8\n",
            "9\n",
            "10\n",
            "11\n",
            "12\n",
            "13\n",
            "14\n",
            "15\n"
          ]
        }
      ]
    },
    {
      "cell_type": "code",
      "source": [
        "soma = 0\n",
        "for numero in range (1, 6):\n",
        "  soma = soma + numero\n",
        "  print (soma)\n",
        "print('')\n",
        "print (soma)"
      ],
      "metadata": {
        "colab": {
          "base_uri": "https://localhost:8080/"
        },
        "id": "qmV1zckYGCwR",
        "outputId": "72dac67b-8d18-4ce7-9555-8623ff8ac056"
      },
      "execution_count": null,
      "outputs": [
        {
          "output_type": "stream",
          "name": "stdout",
          "text": [
            "1\n",
            "3\n",
            "6\n",
            "10\n",
            "15\n",
            "\n",
            "15\n"
          ]
        }
      ]
    },
    {
      "cell_type": "code",
      "source": [
        "palavra = 'sorvete'\n",
        "for letra in palavra:\n",
        "    print(letra)"
      ],
      "metadata": {
        "colab": {
          "base_uri": "https://localhost:8080/"
        },
        "id": "db92L_CtHonA",
        "outputId": "e0934b3c-528c-46ee-e6c1-61db84d50b84"
      },
      "execution_count": null,
      "outputs": [
        {
          "output_type": "stream",
          "name": "stdout",
          "text": [
            "s\n",
            "o\n",
            "r\n",
            "v\n",
            "e\n",
            "t\n",
            "e\n"
          ]
        }
      ]
    },
    {
      "cell_type": "code",
      "source": [
        "for i in range (0,5):\n",
        "  print(i)\n",
        "  print()\n",
        "  for j in range (0,3):\n",
        "    print (j)\n",
        "  print()"
      ],
      "metadata": {
        "colab": {
          "base_uri": "https://localhost:8080/"
        },
        "id": "AFqwaB8cH4R7",
        "outputId": "dac1224d-59d8-4095-b25e-cc7348d157ee"
      },
      "execution_count": null,
      "outputs": [
        {
          "output_type": "stream",
          "name": "stdout",
          "text": [
            "0\n",
            "\n",
            "0\n",
            "1\n",
            "2\n",
            "\n",
            "1\n",
            "\n",
            "0\n",
            "1\n",
            "2\n",
            "\n",
            "2\n",
            "\n",
            "0\n",
            "1\n",
            "2\n",
            "\n",
            "3\n",
            "\n",
            "0\n",
            "1\n",
            "2\n",
            "\n",
            "4\n",
            "\n",
            "0\n",
            "1\n",
            "2\n",
            "\n"
          ]
        }
      ]
    },
    {
      "cell_type": "code",
      "source": [
        "numero = 5\n",
        "while numero > 0:\n",
        "  print(numero)\n",
        "  numero -= 1"
      ],
      "metadata": {
        "colab": {
          "base_uri": "https://localhost:8080/"
        },
        "id": "dtFyduKMI504",
        "outputId": "988c5f0d-73b8-4f16-c8e3-4297ca81e0d4"
      },
      "execution_count": null,
      "outputs": [
        {
          "output_type": "stream",
          "name": "stdout",
          "text": [
            "5\n",
            "4\n",
            "3\n",
            "2\n",
            "1\n"
          ]
        }
      ]
    },
    {
      "cell_type": "code",
      "source": [
        "numero = 12\n",
        "while numero < 1 or numero > 10:\n",
        "  numero = int(input('Digite um número de 1 a 10: '))"
      ],
      "metadata": {
        "colab": {
          "base_uri": "https://localhost:8080/"
        },
        "id": "bwEr_ORrKDwo",
        "outputId": "e2ada63f-c833-43de-b15e-3631a3be2654"
      },
      "execution_count": null,
      "outputs": [
        {
          "name": "stdout",
          "output_type": "stream",
          "text": [
            "Digite um número de 1 a 10: 0\n",
            "Digite um número de 1 a 10: 11\n",
            "Digite um número de 1 a 10: 5\n"
          ]
        }
      ]
    },
    {
      "cell_type": "markdown",
      "source": [
        "# Aulas"
      ],
      "metadata": {
        "id": "-Q8eObJcF-xM"
      }
    }
  ]
}