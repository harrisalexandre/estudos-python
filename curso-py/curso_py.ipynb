{
  "nbformat": 4,
  "nbformat_minor": 0,
  "metadata": {
    "colab": {
      "name": "Curso Py",
      "provenance": [],
      "collapsed_sections": [],
      "toc_visible": true
    },
    "kernelspec": {
      "name": "python3",
      "display_name": "Python 3"
    },
    "language_info": {
      "name": "python"
    }
  },
  "cells": [
    {
      "cell_type": "markdown",
      "source": [
        "# Atividades"
      ],
      "metadata": {
        "id": "L_PCQJ0BFJHK"
      }
    },
    {
      "cell_type": "markdown",
      "source": [
        "Ler dois números inteiros, executar e mostrar o resultado das seguintes operações: adição, subtração, multiplicação e divisão"
      ],
      "metadata": {
        "id": "l0I_EfnPFDd-"
      }
    },
    {
      "cell_type": "code",
      "execution_count": null,
      "metadata": {
        "id": "YMVfeOtA_HkK"
      },
      "outputs": [],
      "source": [
        "numero1 = int(input('Digite o primeiro número: '))\n",
        "numero2 = int(input('Digite o segundo número: '))\n",
        "\n",
        "print(numero1, numero2)\n",
        "\n",
        "adicao = numero1 + numero2\n",
        "subtracao = numero1 - numero2\n",
        "multiplicacao = numero1 * numero2\n",
        "divisao = numero1 / numero2\n",
        "\n",
        "print('Adição: ', adicao)\n",
        "print('Subtração: ', subtracao)\n",
        "print('Multiplicação: ', multiplicacao)\n",
        "print('Divisão: ', round(divisao, 2))"
      ]
    },
    {
      "cell_type": "markdown",
      "source": [
        "Efetuar o cálculo da quantidade de litros de combustível gasto em uma viagem, utilizando um automóvel que faz 12 Km por litro. Para obter o cálculo, o usuário deve fornecer o tempo gasto na viagem e a velocidade média durante ela. Desta forma, será possível obter a distância percorrida com a fórmula DISTANCIA = TEMPO * VELOCIDADE. Tendo o valor da distância, basta calcular a quantidade de litros de combustível utilizada na viagem, com a fórmula: LITROS_USADOS = DISTANCIA / 12. O programa deve apresentar os valores da velocidade média, tempo gasto na viagem, a distância percorrida e a quantidade de litros utilizada na viagem"
      ],
      "metadata": {
        "id": "oqvN46WmFGqY"
      }
    },
    {
      "cell_type": "code",
      "source": [
        "tempo = float(input('Digite o tempo gasto na viagem: '))\n",
        "velocidade = float(input('Digite a velocidade média: '))\n",
        "\n",
        "print(tempo, velocidade)\n",
        "\n",
        "distancia = tempo * velocidade\n",
        "litros_usados = distancia / 12\n",
        "\n",
        "print('Velocidade média: ', velocidade)\n",
        "print('Tempo gasto na viagem: ', tempo)\n",
        "print('Distância percorrida:', distancia)\n",
        "print('Quantidade de litros:', round(litros_usados,1))"
      ],
      "metadata": {
        "id": "6eFr9iP-EP_f"
      },
      "execution_count": null,
      "outputs": []
    },
    {
      "cell_type": "markdown",
      "source": [
        "Leia a idade do usuário e classifique-o em:\n",
        "\n",
        "Criança – 0 a 12 anos\n",
        "Adolescente – 13 a 17 anos\n",
        "Adulto – acima de 18 anos -Se o usuário digitar um número negativo, mostrar a mensagem que a idade é inválida"
      ],
      "metadata": {
        "id": "v4H4-fCOE8RF"
      }
    },
    {
      "cell_type": "code",
      "source": [
        "idade = int(input('Digite a idade: '))\n",
        "\n",
        "print(idade)\n",
        "\n",
        "if idade >= 0 and idade <= 12:\n",
        "  print('Criança')\n",
        "elif idade > 12 and idade <= 18:\n",
        "  print('Adolescente')\n",
        "elif idade > 18:\n",
        "  print('Adulto')\n",
        "else:\n",
        "  print('Idade inválida')"
      ],
      "metadata": {
        "id": "4vsMcTQAEeS6"
      },
      "execution_count": null,
      "outputs": []
    },
    {
      "cell_type": "markdown",
      "source": [
        "Calcular a média de um aluno que cursou a disciplina de Programação I, a partir da leitura das notas M1, M2 e M3; passando por um cálculo da média aritmética. Após a média calculada, devemos anunciar se o aluno foi aprovado, reprovado ou pegou exame\n",
        "\n",
        "Se a média estiver entre 0.0 e 4.0, o aluno está reprovado\n",
        "Se a média estiver entre 4.1 e 6.0, o aluno pegou exame\n",
        "Se a média for maior do que 6.0, o aluno está aprovado\n",
        "Se o aluno pegou exame, deve ser lida a nota do exame. Se a nota do exame for maior do que 6.0, está aprovado, senão; está reprovado"
      ],
      "metadata": {
        "id": "6Gy8-eOhE3tD"
      }
    },
    {
      "cell_type": "code",
      "source": [
        "m1 = float(input('Digite a nota M1: '))\n",
        "m2 = float(input('Digite a nota M2: '))\n",
        "m3 = float(input('Digite a nota M3: '))\n",
        "\n",
        "media = (m1 + m2 + m3) / 3\n",
        "print(media)\n",
        "\n",
        "if media >= 0.0 and media <= 4.0:\n",
        "  print('Aluno reprovado')\n",
        "elif media >= 4.1 and media <= 6.0:\n",
        "  exame = float(input('Digite a nota do exame'))\n",
        "  if exame >= 6.0:\n",
        "    print('Aprovado no exame')\n",
        "  else:\n",
        "    print('Reprovado no exame')\n",
        "else:\n",
        "  print('Aluno aprovado')"
      ],
      "metadata": {
        "id": "Q7Z2iIhfEk4a"
      },
      "execution_count": null,
      "outputs": []
    }
  ]
}